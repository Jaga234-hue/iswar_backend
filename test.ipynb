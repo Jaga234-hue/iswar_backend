{
 "cells": [
  {
   "cell_type": "code",
   "execution_count": null,
   "id": "8351934a",
   "metadata": {},
   "outputs": [],
   "source": [
    "from pydantic import BaseModel\n",
    "\n",
    "# Define a simple model\n",
    "class User(BaseModel):\n",
    "    name: str\n",
    "    age: int\n",
    "    email: str\n",
    "\n",
    "# Create a user instance\n",
    "user = User(name=\"Jagabandhu\", age=19, email=\"jaga@example.com\")\n",
    "\n",
    "# Print the user data\n",
    "print(user)\n",
    "\n",
    "# Access individual fields\n",
    "print(\"Name:\", user.name)\n",
    "print(\"Age:\", user.age)\n",
    "print(\"Email:\", user.email)\n"
   ]
  }
 ],
 "metadata": {
  "kernelspec": {
   "display_name": ".venv",
   "language": "python",
   "name": "python3"
  },
  "language_info": {
   "name": "python",
   "version": "3.14.0"
  }
 },
 "nbformat": 4,
 "nbformat_minor": 5
}
